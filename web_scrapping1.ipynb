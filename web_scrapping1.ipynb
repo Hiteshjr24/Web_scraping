{
  "nbformat": 4,
  "nbformat_minor": 0,
  "metadata": {
    "colab": {
      "provenance": []
    },
    "kernelspec": {
      "name": "python3",
      "display_name": "Python 3"
    },
    "language_info": {
      "name": "python"
    }
  },
  "cells": [
    {
      "cell_type": "code",
      "execution_count": 1,
      "metadata": {
        "id": "26uVXGm7qbln"
      },
      "outputs": [],
      "source": [
        "from bs4 import BeautifulSoup\n",
        "import requests"
      ]
    },
    {
      "cell_type": "code",
      "source": [
        "url = \"https://en.wikipedia.org/wiki/List_of_largest_companies_in_the_United_States_by_revenue\"\n",
        "page = requests.get(url)\n",
        "soup = BeautifulSoup(page.text,'html')"
      ],
      "metadata": {
        "id": "AkYB1z9yqsw1"
      },
      "execution_count": null,
      "outputs": []
    },
    {
      "cell_type": "code",
      "source": [
        "print(soup)"
      ],
      "metadata": {
        "id": "n0H5BWhOrWQ2"
      },
      "execution_count": null,
      "outputs": []
    },
    {
      "cell_type": "code",
      "source": [
        "soup.find('table')"
      ],
      "metadata": {
        "id": "gQPh79u-rcib"
      },
      "execution_count": null,
      "outputs": []
    },
    {
      "cell_type": "code",
      "source": [
        "soup.find_all('table')"
      ],
      "metadata": {
        "id": "HlkzNlqosW7L"
      },
      "execution_count": null,
      "outputs": []
    },
    {
      "cell_type": "code",
      "source": [
        "table = soup.find_all('table')[1]"
      ],
      "metadata": {
        "id": "FNM6686zscZZ"
      },
      "execution_count": null,
      "outputs": []
    },
    {
      "cell_type": "code",
      "source": [
        "soup.find('table',class_ = 'wikitable sortable')"
      ],
      "metadata": {
        "id": "bih_Ymv2sr6-"
      },
      "execution_count": null,
      "outputs": []
    },
    {
      "cell_type": "code",
      "source": [
        "world_titles = table.find_all('th')\n",
        "print(world_titles)"
      ],
      "metadata": {
        "colab": {
          "base_uri": "https://localhost:8080/"
        },
        "id": "4dxwUVl8tMfW",
        "outputId": "82f45f9c-fb7f-457d-b365-517107f0c746"
      },
      "execution_count": null,
      "outputs": [
        {
          "output_type": "stream",
          "name": "stdout",
          "text": [
            "[<th>Rank\n",
            "</th>, <th>Name\n",
            "</th>, <th>Industry\n",
            "</th>, <th>Revenue <br/>(USD millions)\n",
            "</th>, <th>Revenue growth\n",
            "</th>, <th>Employees\n",
            "</th>, <th>Headquarters\n",
            "</th>]\n"
          ]
        }
      ]
    },
    {
      "cell_type": "code",
      "source": [
        "world_table_titles = [title.text.strip() for title in world_titles]\n",
        "print(world_table_titles)"
      ],
      "metadata": {
        "colab": {
          "base_uri": "https://localhost:8080/"
        },
        "id": "t5nwcs0VtwC6",
        "outputId": "ab06c501-810d-4551-fe0f-7bf6ceeb87e0"
      },
      "execution_count": null,
      "outputs": [
        {
          "output_type": "stream",
          "name": "stdout",
          "text": [
            "['Rank', 'Name', 'Industry', 'Revenue (USD millions)', 'Revenue growth', 'Employees', 'Headquarters']\n"
          ]
        }
      ]
    },
    {
      "cell_type": "code",
      "source": [
        "import pandas as pd"
      ],
      "metadata": {
        "id": "50xT4URKvojl"
      },
      "execution_count": null,
      "outputs": []
    },
    {
      "cell_type": "code",
      "source": [
        "df = pd.DataFrame(columns = world_table_titles)"
      ],
      "metadata": {
        "id": "SCG7_UzTvrA0"
      },
      "execution_count": null,
      "outputs": []
    },
    {
      "cell_type": "code",
      "source": [
        "column_data = table.find_all('tr')"
      ],
      "metadata": {
        "id": "luQ90NDmv9MJ"
      },
      "execution_count": null,
      "outputs": []
    },
    {
      "cell_type": "code",
      "source": [
        "for row in column_data[1:]:\n",
        "  row_data = row.find_all('td')\n",
        "  indivisual_row_data = [data.text.strip() for data in row_data]\n",
        "  length = len(df)\n",
        "  df.loc[length] = indivisual_row_data"
      ],
      "metadata": {
        "id": "C3tmamG7wagO"
      },
      "execution_count": null,
      "outputs": []
    },
    {
      "cell_type": "code",
      "source": [
        "df.to_csv(r'/content/data.csv',index = False)"
      ],
      "metadata": {
        "id": "Z9Y-vN6czd7K"
      },
      "execution_count": null,
      "outputs": []
    },
    {
      "cell_type": "code",
      "source": [],
      "metadata": {
        "id": "khMUtpMo1rsQ"
      },
      "execution_count": null,
      "outputs": []
    }
  ]
}